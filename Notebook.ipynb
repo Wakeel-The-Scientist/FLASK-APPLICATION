{
 "cells": [
  {
   "cell_type": "code",
   "execution_count": null,
   "metadata": {},
   "outputs": [],
   "source": [
    "\"\"\"\n",
    "Flask Web Application\n",
    "\n",
    "This script sets up a simple Flask web application with two routes:\n",
    "1. `/` - Displays a welcome message.\n",
    "2. `/index` - Displays an index page message.\n",
    "\n",
    "The application runs in debug mode for development purposes.\n",
    "\"\"\"\n",
    "\n",
    "# Import Flask framework\n",
    "from flask import Flask\n",
    "\n",
    "# Create an instance of the Flask application\n",
    "app = Flask(__name__)\n",
    "\n",
    "@app.route(\"/\")\n",
    "def welcome():\n",
    "    \"\"\"Handles requests to the root URL and returns a welcome message.\"\"\"\n",
    "    return \"Welcome to this best Flask course. This should be an amazing course.\"\n",
    "\n",
    "@app.route(\"/index\")\n",
    "def index():\n",
    "    \"\"\"Handles requests to the /index URL and returns an index page message.\"\"\"\n",
    "    return \"Welcome to the index page\"\n",
    "\n",
    "# Run the application in debug mode\n",
    "if __name__ == \"__main__\":\n",
    "    app.run(debug=True)\n"
   ]
  }
 ],
 "metadata": {
  "kernelspec": {
   "display_name": "Python 3",
   "language": "python",
   "name": "python3"
  },
  "language_info": {
   "name": "python",
   "version": "3.12.1"
  }
 },
 "nbformat": 4,
 "nbformat_minor": 2
}
